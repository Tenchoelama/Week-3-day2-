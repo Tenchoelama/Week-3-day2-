{
 "cells": [
  {
   "cell_type": "markdown",
   "metadata": {},
   "source": [
    "# Object-Oriented-Programming (OOP)"
   ]
  },
  {
   "cell_type": "markdown",
   "metadata": {},
   "source": [
    "## Tasks Today:\n",
    "\n",
    "   \n",
    "\n",
    "1) <b>Creating a Class (Initializing/Declaring)</b> <br>\n",
    "2) <b>Using a Class (Instantiating)</b> <br>\n",
    " &nbsp;&nbsp;&nbsp;&nbsp; a) Creating One Instance <br>\n",
    " &nbsp;&nbsp;&nbsp;&nbsp; b) Creating Multiple Instances <br>\n",
    " &nbsp;&nbsp;&nbsp;&nbsp; c) In-Class Exercise #1 - Create a Class 'Car' and instantiate three different makes of cars <br>\n",
    "3) <b>The \\__init\\__() Method</b> <br>\n",
    " &nbsp;&nbsp;&nbsp;&nbsp; a) The 'self' Attribute <br>\n",
    "4) <b>Class Attributes</b> <br>\n",
    " &nbsp;&nbsp;&nbsp;&nbsp; a) Initializing Attributes <br>\n",
    " &nbsp;&nbsp;&nbsp;&nbsp; b) Setting an Attribute Outside of the \\__init\\__() Method <br>\n",
    " &nbsp;&nbsp;&nbsp;&nbsp; c) Setting Defaults for Attributes <br>\n",
    " &nbsp;&nbsp;&nbsp;&nbsp; d) Accessing Class Attributes <br>\n",
    " &nbsp;&nbsp;&nbsp;&nbsp; e) Changing Class Attributes <br>\n",
    " &nbsp;&nbsp;&nbsp;&nbsp; f) In-Class Exercise #2 - Add a color and wheels attribute to your 'Car' class <br>\n",
    "5) <b>Class Methods</b> <br>\n",
    " &nbsp;&nbsp;&nbsp;&nbsp; a) Creating <br>\n",
    " &nbsp;&nbsp;&nbsp;&nbsp; b) Calling <br>\n",
    " &nbsp;&nbsp;&nbsp;&nbsp; c) Modifying an Attribute's Value Through a Method <br>\n",
    " &nbsp;&nbsp;&nbsp;&nbsp; d) Incrementing an Attribute's Value Through a Method <br>\n",
    " &nbsp;&nbsp;&nbsp;&nbsp; e) In-Class Exercise #3 - Add a method that prints the cars color and wheel number, then call them <br>\n",
    "6) <b>Inheritance</b> <br>\n",
    " &nbsp;&nbsp;&nbsp;&nbsp; a) Syntax for Inheriting from a Parent Class <br>\n",
    " &nbsp;&nbsp;&nbsp;&nbsp; b) The \\__init\\__() Method for a Child Class (super()) <br>\n",
    " &nbsp;&nbsp;&nbsp;&nbsp; c) Defining Attributes and Methods for the Child Class <br>\n",
    " &nbsp;&nbsp;&nbsp;&nbsp; d) Method Overriding <br>\n",
    " &nbsp;&nbsp;&nbsp;&nbsp; e) In-Class Exercise #4 - Create a class 'Ford' that inherits from 'Car' class and initialize it as a Blue Ford Explorer with 4 wheels using the super() method <br>\n",
    "7) <b>Classes as Attributes</b> <br>\n",
    "8) <b>Exercises</b> <br>\n",
    " &nbsp;&nbsp;&nbsp;&nbsp; a) Exercise #1 - Turn the shopping cart program from last week into an object-oriented program <br>"
   ]
  },
  {
   "cell_type": "markdown",
   "metadata": {},
   "source": [
    "## Creating a Class (Initializing/Declaring)\n",
    "<p>When creating a class, function, or even a variable you are initializing that object. Initializing and Declaring occur at the same time in Python, whereas in lower level languages you have to declare an object before initializing it. This is the first step in the process of using a class.</p>"
   ]
  },
  {
   "cell_type": "code",
   "execution_count": 4,
   "metadata": {},
   "outputs": [],
   "source": [
    "class Car():\n",
    "    wheels = 4\n",
    "    color = 'blue'"
   ]
  },
  {
   "cell_type": "markdown",
   "metadata": {},
   "source": [
    "## Using a Class (Instantiating)\n",
    "<p>The process of creating a class is called <i>Instantiating</i>. Each time you create a variable of that type of class, it is referred to as an <i>Instance</i> of that class. This is the second step in the process of using a class.</p>"
   ]
  },
  {
   "cell_type": "markdown",
   "metadata": {},
   "source": [
    "##### Creating One Instance"
   ]
  },
  {
   "cell_type": "code",
   "execution_count": 1,
   "metadata": {},
   "outputs": [
    {
     "ename": "NameError",
     "evalue": "name 'Car' is not defined",
     "output_type": "error",
     "traceback": [
      "\u001b[1;31m---------------------------------------------------------------------------\u001b[0m",
      "\u001b[1;31mNameError\u001b[0m                                 Traceback (most recent call last)",
      "\u001b[1;32m~\\AppData\\Local\\Temp\\ipykernel_12868\\3076173698.py\u001b[0m in \u001b[0;36m<module>\u001b[1;34m\u001b[0m\n\u001b[1;32m----> 1\u001b[1;33m \u001b[0mford\u001b[0m \u001b[1;33m=\u001b[0m \u001b[0mCar\u001b[0m\u001b[1;33m(\u001b[0m\u001b[1;33m)\u001b[0m\u001b[1;33m\u001b[0m\u001b[1;33m\u001b[0m\u001b[0m\n\u001b[0m\u001b[0;32m      2\u001b[0m \u001b[0mprint\u001b[0m\u001b[1;33m(\u001b[0m\u001b[0mford\u001b[0m\u001b[1;33m.\u001b[0m\u001b[0mwheels\u001b[0m\u001b[1;33m)\u001b[0m\u001b[1;33m\u001b[0m\u001b[1;33m\u001b[0m\u001b[0m\n\u001b[0;32m      3\u001b[0m \u001b[0mprint\u001b[0m\u001b[1;33m(\u001b[0m\u001b[0mford\u001b[0m\u001b[1;33m.\u001b[0m\u001b[0mcolor\u001b[0m\u001b[1;33m)\u001b[0m\u001b[1;33m\u001b[0m\u001b[1;33m\u001b[0m\u001b[0m\n",
      "\u001b[1;31mNameError\u001b[0m: name 'Car' is not defined"
     ]
    }
   ],
   "source": [
    "ford = Car()\n",
    "print(ford.wheels)\n",
    "print(ford.color)\n"
   ]
  },
  {
   "cell_type": "markdown",
   "metadata": {},
   "source": [
    "##### Creating Multiple Instances"
   ]
  },
  {
   "cell_type": "code",
   "execution_count": 2,
   "metadata": {},
   "outputs": [
    {
     "ename": "NameError",
     "evalue": "name 'Car' is not defined",
     "output_type": "error",
     "traceback": [
      "\u001b[1;31m---------------------------------------------------------------------------\u001b[0m",
      "\u001b[1;31mNameError\u001b[0m                                 Traceback (most recent call last)",
      "\u001b[1;32m~\\AppData\\Local\\Temp\\ipykernel_12868\\2004148423.py\u001b[0m in \u001b[0;36m<module>\u001b[1;34m\u001b[0m\n\u001b[1;32m----> 1\u001b[1;33m \u001b[0mmazda\u001b[0m \u001b[1;33m=\u001b[0m \u001b[0mCar\u001b[0m\u001b[1;33m(\u001b[0m\u001b[1;33m)\u001b[0m\u001b[1;33m\u001b[0m\u001b[1;33m\u001b[0m\u001b[0m\n\u001b[0m\u001b[0;32m      2\u001b[0m \u001b[1;33m\u001b[0m\u001b[0m\n\u001b[0;32m      3\u001b[0m \u001b[0mhonda\u001b[0m \u001b[1;33m=\u001b[0m \u001b[0mCar\u001b[0m\u001b[1;33m(\u001b[0m\u001b[1;33m)\u001b[0m\u001b[1;33m\u001b[0m\u001b[1;33m\u001b[0m\u001b[0m\n\u001b[0;32m      4\u001b[0m \u001b[1;33m\u001b[0m\u001b[0m\n\u001b[0;32m      5\u001b[0m \u001b[0mmclaren\u001b[0m \u001b[1;33m=\u001b[0m \u001b[0mCar\u001b[0m\u001b[1;33m(\u001b[0m\u001b[1;33m)\u001b[0m\u001b[1;33m\u001b[0m\u001b[1;33m\u001b[0m\u001b[0m\n",
      "\u001b[1;31mNameError\u001b[0m: name 'Car' is not defined"
     ]
    }
   ],
   "source": [
    "mazda = Car()\n",
    "\n",
    "honda = Car()\n",
    "\n",
    "mclaren = Car()\n",
    "\n"
   ]
  },
  {
   "cell_type": "markdown",
   "metadata": {},
   "source": [
    "##### In-Class Exercise #1 - Create a Class 'Car' and Instantiate three different makes of cars"
   ]
  },
  {
   "cell_type": "code",
   "execution_count": 13,
   "metadata": {},
   "outputs": [
    {
     "name": "stdout",
     "output_type": "stream",
     "text": [
      "sedan\n",
      "silver\n",
      "25\n"
     ]
    }
   ],
   "source": [
    "class Car():\n",
    "    def __init__(self, mph, color, body):\n",
    "        self.mph = mph\n",
    "        self.color = color\n",
    "        self.body = body\n",
    "\n",
    "toyota = Car(50, \"blue\", \"sedan\")\n",
    "\n",
    "nissan = Car(35, \"silver\", \"truck\")\n",
    "\n",
    "audi = Car(25, \"black\", \"sedan\")\n",
    "\n",
    "\n",
    "print(toyota.body)\n",
    "print(nissan.color)\n",
    "print(audi.mph)"
   ]
  },
  {
   "cell_type": "markdown",
   "metadata": {},
   "source": [
    "## The \\__init\\__() Method <br>\n",
    "<p>This method is used in almost every created class, and called only once upon the creation of the class instance. This method will initialize all variables needed for the object.</p>"
   ]
  },
  {
   "cell_type": "code",
   "execution_count": 8,
   "metadata": {},
   "outputs": [
    {
     "name": "stdout",
     "output_type": "stream",
     "text": [
      "Blue\n",
      "Red\n",
      "Green\n",
      "{'wheels': 4, 'color': 'Blue', 'doors': 4}\n"
     ]
    }
   ],
   "source": [
    "class Car():\n",
    "    def __init__(self,wheels,color,doors):\n",
    "        self.wheels = wheels\n",
    "        self.color = color\n",
    "        self.doors = doors\n",
    "mazda = Car(4, \"Blue\", 4)\n",
    "\n",
    "mclaren = Car(4, 'Red', 2)\n",
    "\n",
    "honda = Car(4, 'Green', 4)\n",
    "\n",
    "print(mazda.color)\n",
    "print(mclaren.color)\n",
    "print(honda.color)\n",
    "\n",
    "\n",
    "print(mazda.__dict__)"
   ]
  },
  {
   "cell_type": "markdown",
   "metadata": {},
   "source": [
    "##### The 'self' Attribute <br>\n",
    "<p>This attribute is required to keep track of specific instance's attributes. Without the self attribute, the program would not know how to reference or keep track of an instance's attributes.</p>"
   ]
  },
  {
   "cell_type": "code",
   "execution_count": 18,
   "metadata": {},
   "outputs": [
    {
     "name": "stdout",
     "output_type": "stream",
     "text": [
      "self is referncing the object <__main__.Pokemon object at 0x0000024979F9C550>, Charmander\n",
      "fire\n"
     ]
    }
   ],
   "source": [
    "class Pokemon():\n",
    "    def __init__(self, name, type_):\n",
    "        #self is going to hold the place of the object we instantiate\n",
    "        self.name = name #self will become object.\n",
    "        self.type_ = type_\n",
    "        print(f\"self is referncing the object {self}, {self.name}\")\n",
    "        print(self.type_)\n",
    "        \n",
    "charmander = Pokemon(\"Charmander\", \"fire\")"
   ]
  },
  {
   "cell_type": "markdown",
   "metadata": {},
   "source": [
    "## Class Attributes <br>\n",
    "<p>While variables are inside of a class, they are referred to as attributes and not variables. When someone says 'attribute' you know they're speaking about a class. Attributes can be initialized through the init method, or outside of it.</p>"
   ]
  },
  {
   "cell_type": "markdown",
   "metadata": {},
   "source": [
    "##### Initializing Attributes"
   ]
  },
  {
   "cell_type": "code",
   "execution_count": 23,
   "metadata": {},
   "outputs": [
    {
     "name": "stdout",
     "output_type": "stream",
     "text": [
      "self is referncing the object <__main__.Pokemon object at 0x000002497A0870D0>, bulbasor\n",
      "grass\n",
      "grass\n",
      "{'name': 'bulbasor', 'type_': 'grass'}\n"
     ]
    }
   ],
   "source": [
    "bulbasor = Pokemon(\"bulbasor\", \"grass\")\n",
    "print(bulbasor.type_)\n",
    "print(bulbasor.__dict__)"
   ]
  },
  {
   "cell_type": "markdown",
   "metadata": {},
   "source": [
    "##### Accessing Class Attributes"
   ]
  },
  {
   "cell_type": "code",
   "execution_count": 20,
   "metadata": {
    "scrolled": true
   },
   "outputs": [
    {
     "name": "stdout",
     "output_type": "stream",
     "text": [
      "bulbasor\n"
     ]
    }
   ],
   "source": [
    "print(bulbasor.name)"
   ]
  },
  {
   "cell_type": "markdown",
   "metadata": {},
   "source": [
    "##### Setting Defaults for Attributes"
   ]
  },
  {
   "cell_type": "code",
   "execution_count": 24,
   "metadata": {},
   "outputs": [
    {
     "name": "stdout",
     "output_type": "stream",
     "text": [
      "blue\n",
      "4\n"
     ]
    }
   ],
   "source": [
    "class Car():\n",
    "    def __init__(self, wheels):\n",
    "        self.wheels = wheels\n",
    "        self.color = \"blue\"\n",
    "honda = Car(4)\n",
    "print(honda.color)\n",
    "print(honda.wheels)"
   ]
  },
  {
   "cell_type": "code",
   "execution_count": 26,
   "metadata": {},
   "outputs": [
    {
     "name": "stdout",
     "output_type": "stream",
     "text": [
      "4\n",
      "Red\n"
     ]
    }
   ],
   "source": [
    "class Car():\n",
    "    def __init__(self, wheels, color = \"Red\"):\n",
    "        self.wheels = wheels\n",
    "        self.color = color\n",
    "honda = Car(4)\n",
    "print(honda.wheels)\n",
    "print(honda.color)"
   ]
  },
  {
   "cell_type": "markdown",
   "metadata": {},
   "source": [
    "##### Changing Class Attributes <br>\n",
    "<p>Keep in mind there are global class attributes and then there are attributes only available to each class instance which won't effect other classes.</p>"
   ]
  },
  {
   "cell_type": "code",
   "execution_count": 27,
   "metadata": {},
   "outputs": [
    {
     "name": "stdout",
     "output_type": "stream",
     "text": [
      "blue\n",
      "4\n",
      "before atrribute change blue\n",
      "after attribute change Red\n"
     ]
    }
   ],
   "source": [
    "class Car():\n",
    "    def __init__(self, wheels):\n",
    "        self.wheels = wheels\n",
    "        self.color = \"blue\"\n",
    "honda = Car(4)\n",
    "print(honda.color)\n",
    "print(honda.wheels)\n",
    "\n",
    "mazda = Car(4)\n",
    "#change our default attribute\n",
    "print(f\"before atrribute change {honda.color}\")\n",
    "honda.color = \"Red\"\n",
    "print(f\"after attribute change {honda.color}\")"
   ]
  },
  {
   "cell_type": "code",
   "execution_count": null,
   "metadata": {},
   "outputs": [],
   "source": []
  },
  {
   "cell_type": "markdown",
   "metadata": {},
   "source": [
    "##### In-Class Exercise #2 - Add a doors and seats attribute to your 'Car' class then print out two different instances with different doors and seats.Then take that bad boy to the shop and change those attributes. Either with an input or just by changing them\n"
   ]
  },
  {
   "cell_type": "code",
   "execution_count": 41,
   "metadata": {},
   "outputs": [
    {
     "name": "stdout",
     "output_type": "stream",
     "text": [
      "Tesla is a 4 door and has leather seats\n",
      "Mazda is a 4 door and has cloth seats\n",
      "After some changes \n",
      "\n",
      "Tesla is now a 6 door\n",
      "Mazda now has leather seats\n"
     ]
    }
   ],
   "source": [
    "class Car():\n",
    "    def __init__ (self, seats, door = 4, ):\n",
    "        self.door = door\n",
    "        self.seats = seats\n",
    "\n",
    "Tesla = Car(\"leather\")\n",
    "\n",
    "print (f\"Tesla is a {Tesla.door} door and has {Tesla.seats} seats\")\n",
    "\n",
    "Mazda = Car(\"cloth\")\n",
    "\n",
    "print(f\"Mazda is a {Mazda.door} door and has {Mazda.seats} seats\")\n",
    "\n",
    "\n",
    "print (\"After some changes \")\n",
    "print('')\n",
    "Tesla.door = 6\n",
    "#after changing the attribute \n",
    "print (f\"Tesla is now a {Tesla.door} door\")\n",
    "\n",
    "Mazda.seats = \"leather\"\n",
    "print(f\"Mazda now has {Mazda.seats} seats\")"
   ]
  },
  {
   "cell_type": "markdown",
   "metadata": {},
   "source": [
    "## Class Methods <br>\n",
    "<p>While inside of a class, functions are referred to as 'methods'. If you hear someone mention methods, they're speaking about classes. Methods are essentially functions, but only callable on the instances of a class.</p>"
   ]
  },
  {
   "cell_type": "markdown",
   "metadata": {},
   "source": [
    "##### Creating"
   ]
  },
  {
   "cell_type": "markdown",
   "metadata": {},
   "source": [
    "##### Calling"
   ]
  },
  {
   "cell_type": "code",
   "execution_count": 49,
   "metadata": {},
   "outputs": [
    {
     "ename": "SyntaxError",
     "evalue": "invalid syntax (2072474887.py, line 34)",
     "output_type": "error",
     "traceback": [
      "\u001b[1;36m  File \u001b[1;32m\"C:\\Users\\tench\\AppData\\Local\\Temp\\ipykernel_12868\\2072474887.py\"\u001b[1;36m, line \u001b[1;32m34\u001b[0m\n\u001b[1;33m    if self.seats_available >= self.seats\u001b[0m\n\u001b[1;37m                                         ^\u001b[0m\n\u001b[1;31mSyntaxError\u001b[0m\u001b[1;31m:\u001b[0m invalid syntax\n"
     ]
    }
   ],
   "source": [
    "class Bus():\n",
    "    \"\"\"\n",
    "    The bus will have doors, seats, seats avaialble, color, and a bus driver\n",
    "    \n",
    "    Attributes for the bus:\n",
    "    -door: integer\n",
    "    -seats: integer\n",
    "    -setas_avaialble: integer\n",
    "    -color: string \n",
    "    -bus_driver: string\n",
    "    \n",
    "    \"\"\"\n",
    "    def __init__(self, doors, seats, seats_available, color, bus_driver):\n",
    "        self.doors = doors\n",
    "        self.seats = seats\n",
    "        self.seats_available = seats_available\n",
    "        self.color = color\n",
    "        self.bus_driver = bus_driver\n",
    "        \n",
    "    #decrement the number of seats avialable \n",
    "    def load_passanger(self):\n",
    "        if self.seats_avialable <= 0:\n",
    "            print(\"This bus is full You can't take any more passengers: ()\")\n",
    "            if self.seats_available < 0:\n",
    "                print(f\"You left {abs(self.seats_avialable)} by the road!\")\n",
    "                self.seats_available = 0 \n",
    "        else:\n",
    "            passengers = int(input(\"How many passengers are getting on?\"))#??\n",
    "            self.seats_available -= passengers\n",
    "            print(f\"{passengers} passengers have boarded. There are {self.seats_available} left on the bus!\")\n",
    "       \n",
    "    #incerement the number of seats available\n",
    "    def unload_passengers(self):\n",
    "        if self.seats_available >= self.seats\n",
    "            print(\"There is no one on the bus to unload\")\n",
    "        else:\n",
    "            unload = int(input(\"How many passengers are getting off the bus?\"))\n",
    "            self.seats_avaialble += unload\n",
    "            if self.seats_available >= self.seats:\n",
    "                self.seats_avaialble = self.seats\n",
    "                  \n",
    "                print(f\"{unload} passengers have left the bus. There are {self.seats_avaialble} left\")\n",
    "    #Change the bus_driver attribute\n",
    "    def change_driver(self):\n",
    "        change= input(\"who is replacing you? \")\n",
    "        self.bus_driver = change\n",
    "        print(f\"The new bus driver is {self.bus_driver}. Be sure to thank him!)\n",
    "    \n",
    "    #display available seats\n",
    "    def check_seats(self):\n",
    "        print(f\"There are {self.seats} avaialble currently.\")\n",
    "    \n",
    "    #display bus color\n",
    "    def admire_bus(self):\n",
    "        print(f\"Psshh..Would you just look at the beutiful {self.color} bus! Would you just look at that!\")\n",
    "        \n",
    "\n",
    "ryan_bus = Bus(2,90,45,\"yellow\",\"Ryan\")\n",
    "            "
   ]
  },
  {
   "cell_type": "code",
   "execution_count": 60,
   "metadata": {},
   "outputs": [
    {
     "ename": "IndentationError",
     "evalue": "unexpected indent (2931980728.py, line 3)",
     "output_type": "error",
     "traceback": [
      "\u001b[1;36m  File \u001b[1;32m\"C:\\Users\\tench\\AppData\\Local\\Temp\\ipykernel_12868\\2931980728.py\"\u001b[1;36m, line \u001b[1;32m3\u001b[0m\n\u001b[1;33m    def run():\u001b[0m\n\u001b[1;37m    ^\u001b[0m\n\u001b[1;31mIndentationError\u001b[0m\u001b[1;31m:\u001b[0m unexpected indent\n"
     ]
    }
   ],
   "source": [
    "ryan_bus = Bus(2,90,45,\"yellow\",\"Ryan\")\n",
    "\n",
    "def run():\n",
    "    while True:\n",
    "        response = input(\"What would you like to do? Load/Unload/change Driver/Check Seats/Admire/Quit? \")\n",
    "        if response.lower() ==\"quit\":\n",
    "            print(\"Oh No! there are still passengers to be picked up.\")\n",
    "            break\n",
    "        elif response.lower() ==\"load\":\n",
    "            ryan_bus.load_passangers()\n",
    "        elif response.lower() ==\"unload\":\n",
    "            ryan_bus.unload_passangers()\n",
    "        elif response.lower() ==\"change driver\":\n",
    "            ryan_bus.change_driver()\n",
    "        elif response.lower() ==\"check seats\":\n",
    "            ryan_bus.check_seats()\n",
    "        elif response.lower() ==\"admire\":\n",
    "            ryan_bus.admire_bus()\n",
    "        else:\n",
    "            print(\"this is not a valid response. Please pick from the list!\")\n",
    "\n",
    "run()\n",
    "    "
   ]
  },
  {
   "cell_type": "markdown",
   "metadata": {},
   "source": [
    "##### Modifying an Attribute's Value Through a Method"
   ]
  },
  {
   "cell_type": "code",
   "execution_count": null,
   "metadata": {},
   "outputs": [],
   "source": []
  },
  {
   "cell_type": "markdown",
   "metadata": {},
   "source": [
    "##### Incrementing an Attribute's Value Through a Method"
   ]
  },
  {
   "cell_type": "code",
   "execution_count": null,
   "metadata": {},
   "outputs": [],
   "source": []
  },
  {
   "cell_type": "markdown",
   "metadata": {},
   "source": [
    "##### In-Class Exercise #3 - Add a method that takes in three parameters of year, doors and seats and prints out a formatted print statement with make, model, year, seats, and doors"
   ]
  },
  {
   "cell_type": "code",
   "execution_count": 77,
   "metadata": {},
   "outputs": [
    {
     "name": "stdout",
     "output_type": "stream",
     "text": [
      "This car is from 2019 and is a Ford Expolorer and has 4 doors and 5 seats\n"
     ]
    }
   ],
   "source": [
    "# Create two methods for your class\n",
    "        \n",
    "# Create a method that alters an attribute for your class\n",
    "\n",
    "# Display method that prints information about the vehicle\n",
    "\n",
    "# Output: This car is from 2019 and is a Ford Expolorer and has 4 doors and 5 seats\n",
    "\n",
    "#reminder in order to call class methods instance.method()\n",
    "\n",
    "\n",
    "class Car():\n",
    "    def __init__(self, make, model):\n",
    "        self.make = make\n",
    "        self.model = model\n",
    "        self.year = 2023\n",
    "        self.door = 2\n",
    "        self.seats = 2\n",
    "        \n",
    "    def change_info(self, year, door, seats):\n",
    "        self.year = year\n",
    "        self.door = door\n",
    "        self.seats = seats   \n",
    "    \n",
    "    def display_info(self):\n",
    "        print(f\"This car is from {self.year} and is a {self.make} {self.model} and has {self.door} doors and {self.seats} seats\")\n",
    "        \n",
    "        \n",
    "my_car = Car(\"Ford\", \"Expolorer\")\n",
    "my_car.change_info(2019, 4 ,5)\n",
    "my_car.display_info()\n",
    "\n",
    "\n",
    "\n"
   ]
  },
  {
   "cell_type": "markdown",
   "metadata": {},
   "source": [
    "## Inheritance <br>\n",
    "<p>You can create a child-parent relationship between two classes by using inheritance. What this allows you to do is have overriding methods, but also inherit traits from the parent class. Think of it as an actual parent and child, the child will inherit the parent's genes, as will the classes in OOP</p>"
   ]
  },
  {
   "cell_type": "markdown",
   "metadata": {},
   "source": [
    "##### Syntax for Inheriting from a Parent Class"
   ]
  },
  {
   "cell_type": "code",
   "execution_count": 82,
   "metadata": {},
   "outputs": [],
   "source": [
    "#creation of our parent class\n",
    "class Animal():\n",
    "    ACCELERATION = 9.8\n",
    "    def __init__(self, name, species, legs = 4):\n",
    "        self.name = name \n",
    "        self.species = species\n",
    "        self.legs = legs\n",
    "    \n",
    "    #generic parent method\n",
    "    def make_sound(self):\n",
    "        print(\"REEEEEEE\")\n",
    "\n",
    "#creation of the grandchild class\n",
    "class Dog(Animal):\n",
    "    SPEED = 15\n",
    "    \n",
    "    def print_info(self):\n",
    "        print(f\"{self.name} runs at {self.SPEED} mph and accelerate at {self.ACCELERATION} mps^2\")\n",
    "#creation of the grandchild class\n",
    "class Mutt(Dog):\n",
    "    COLOR = \"light brownish\"\n",
    "    \n",
    "    #Access the Animal init class through the Dog class\n",
    "    def __init__(self, name, species, eye_color, legs = 4):\n",
    "        Dog.__init__(self, name, species, legs)\n",
    "        self.eye_color = eye_color\n",
    "    #override the make_sound method\n",
    "    def make_sound(self):\n",
    "        print(\"roooo\")\n",
    "    "
   ]
  },
  {
   "cell_type": "code",
   "execution_count": 83,
   "metadata": {},
   "outputs": [
    {
     "name": "stdout",
     "output_type": "stream",
     "text": [
      "9.8\n",
      "Greg\n"
     ]
    }
   ],
   "source": [
    "#instantiating and access\n",
    "elephant = Animal('Greg', 'elephant')\n",
    "print(elephant.ACCELERATION)\n",
    "print(elephant.name)"
   ]
  },
  {
   "cell_type": "markdown",
   "metadata": {},
   "source": [
    "##### The \\__init\\__() Method for a Child Class - super()"
   ]
  },
  {
   "cell_type": "code",
   "execution_count": 88,
   "metadata": {
    "scrolled": true
   },
   "outputs": [
    {
     "name": "stdout",
     "output_type": "stream",
     "text": [
      "Eyo runs at 15 mph and accelerate at 9.8 mps^2\n"
     ]
    }
   ],
   "source": [
    "#super() grabs the orginal/unaltered function or method\n",
    "class Mutt(Dog):\n",
    "    COLOR = \"light brownish\"\n",
    "    \n",
    "    #Access the Animal init class through the Dog class\n",
    "    def __init__(self, name, species, eye_color, legs = 4):\n",
    "        super().__init__(name, species, legs)\n",
    "        self.eye_color = eye_color\n",
    "    #override the make_sound method\n",
    "    def make_sound(self):\n",
    "        print(\"roooo\")\n",
    "        \n",
    "eyo = Mutt(\"Eyo\",\"Dog\",\"brown\")\n",
    "eyo.print_info()"
   ]
  },
  {
   "cell_type": "markdown",
   "metadata": {},
   "source": [
    "##### Defining Attributes and Methods for the Child Class"
   ]
  },
  {
   "cell_type": "code",
   "execution_count": 92,
   "metadata": {},
   "outputs": [
    {
     "name": "stdout",
     "output_type": "stream",
     "text": [
      "20\n",
      "2022 Tesla Model Y20\n"
     ]
    }
   ],
   "source": [
    "class Battery:\n",
    "    VOLTZ = 7.8\n",
    "    \n",
    "    def __init__(self, cells):\n",
    "        self.cells = cells\n",
    "        \n",
    "class Car():\n",
    "    def __init__(self, year, make, model, battery):\n",
    "        self.year = year\n",
    "        self.make = make\n",
    "        self.model = model\n",
    "        self.battery = battery\n",
    "    \n",
    "    def print_info(self):\n",
    "        print(f\"{self.year} {self.make}{self.model}{self.battery.cells}\")\n",
    "\n",
    "battery = Battery(20)\n",
    "\n",
    "tesla = Car(2022, \"Tesla \", \"Model Y \", battery)\n",
    "\n",
    "print(tesla.battery.cells)\n",
    "\n",
    "tesla.print_info()\n",
    "    "
   ]
  },
  {
   "cell_type": "markdown",
   "metadata": {},
   "source": [
    "##### Method Overriding"
   ]
  },
  {
   "cell_type": "code",
   "execution_count": null,
   "metadata": {},
   "outputs": [],
   "source": [
    "# See Above"
   ]
  },
  {
   "cell_type": "markdown",
   "metadata": {},
   "source": [
    "## Classes as Attributes <br>\n",
    "<p>Classes can also be used as attributes within another class. This is useful in situations where you need to keep variables locally stored, instead of globally stored.</p>"
   ]
  },
  {
   "cell_type": "code",
   "execution_count": null,
   "metadata": {},
   "outputs": [],
   "source": []
  },
  {
   "cell_type": "markdown",
   "metadata": {},
   "source": [
    "# Exercises"
   ]
  },
  {
   "cell_type": "markdown",
   "metadata": {},
   "source": [
    "### Exercise 1 - Turn the shopping cart program from yesterday into an object-oriented program\n",
    "\n",
    "The comments in the cell below are there as a guide for thinking about the problem. However, if you feel a different way is best for you and your own thought process, please do what feels best for you by all means."
   ]
  },
  {
   "cell_type": "code",
   "execution_count": null,
   "metadata": {},
   "outputs": [
    {
     "name": "stdout",
     "output_type": "stream",
     "text": [
      " What would you like to do today? buy/showcart/quit? buy\n",
      "What item would you like to buy today? 10\n",
      "How many of those item would you like? 10\n",
      " What would you like to do today? buy/showcart/quit? showcart\n",
      "{'10': 10}\n"
     ]
    }
   ],
   "source": [
    "# Create a class called cart that retains items and has methods to add, remove, and show\n",
    "\n",
    "class Cart():\n",
    "    \n",
    "    \n",
    "    \n",
    "    def __init__(self):\n",
    "        \n",
    "        self.items = {}\n",
    "            \n",
    "    \n",
    "    def buy_item(self):\n",
    "        what_item = input(\"What item would you like to buy today? \")\n",
    "        how_many = int(input(\"How many of those item would you like? \"))\n",
    "        if what_item not in self.items:\n",
    "            self.items[what_item] = how_many\n",
    "        else:\n",
    "            self.items[what_item] += how_many\n",
    "            \n",
    "    def show_items(self):\n",
    "        print(self.items)\n",
    "        \n",
    "    def remove_item(self):\n",
    "        if \n",
    "        \n",
    "Heb = Cart()\n",
    "        \n",
    "def final():\n",
    "    while True:\n",
    "        option = input(\" What would you like to do today? buy/showcart/quit? \")\n",
    "        if option.lower() == \"quit\":\n",
    "            Heb.show_items()\n",
    "            break\n",
    "        elif option.lower() == \"buy\":\n",
    "            Heb.buy_item()\n",
    "        elif option.lower()  == \"showcart\":\n",
    "            Heb.show_items()\n",
    "        else:\n",
    "            (\"invalid input: Please try again\")\n",
    "\n",
    "final()\n",
    "    \n",
    "\n",
    "    "
   ]
  },
  {
   "cell_type": "markdown",
   "metadata": {},
   "source": [
    "### Exercise 2 - Write a Python class which has two methods get_String and print_String. get_String accept a string from the user and print_String print the string in upper case"
   ]
  },
  {
   "cell_type": "code",
   "execution_count": 123,
   "metadata": {},
   "outputs": [
    {
     "name": "stdout",
     "output_type": "stream",
     "text": [
      " What is your favourite vacation spot? hawaii\n",
      "HAWAII\n"
     ]
    }
   ],
   "source": [
    "class Homework():\n",
    "    \n",
    "    def __init__(self):\n",
    "        pass\n",
    "        \n",
    "        \n",
    "    def get_string(self):\n",
    "        option = input(\" What is your favourite vacation spot? \")\n",
    "        return option\n",
    "    \n",
    "    def print_string(self):\n",
    "        x = self.get_string()\n",
    "        print(x.upper())\n",
    "        \n",
    "\n",
    "\n",
    "        \n",
    "ask = Homework()\n",
    "\n",
    "ask.print_string()"
   ]
  },
  {
   "cell_type": "code",
   "execution_count": null,
   "metadata": {},
   "outputs": [],
   "source": []
  }
 ],
 "metadata": {
  "kernelspec": {
   "display_name": "Python 3 (ipykernel)",
   "language": "python",
   "name": "python3"
  },
  "language_info": {
   "codemirror_mode": {
    "name": "ipython",
    "version": 3
   },
   "file_extension": ".py",
   "mimetype": "text/x-python",
   "name": "python",
   "nbconvert_exporter": "python",
   "pygments_lexer": "ipython3",
   "version": "3.9.13"
  }
 },
 "nbformat": 4,
 "nbformat_minor": 2
}
